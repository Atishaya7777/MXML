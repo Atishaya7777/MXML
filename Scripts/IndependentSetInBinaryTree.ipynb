{
 "cells": [
  {
   "cell_type": "code",
   "execution_count": 20,
   "metadata": {},
   "outputs": [
    {
     "name": "stdout",
     "output_type": "stream",
     "text": [
      "1   x + 1   x^2 + 3*x + 1   x^5 + 5*x^4 + 12*x^3 + 15*x^2 + 7*x + 1\n"
     ]
    }
   ],
   "source": [
    "n=10\n",
    "R.<x> = PolynomialRing(QQ)\n",
    "P = [0*x+1, x+1]\n",
    "# print(P[0], P[1])\n",
    "for i in range(2,n):\n",
    "    p=(P[i-1])^2+x*(P[i-2])^4\n",
    "    P.append(p)\n",
    "print(P[0], ' ', P[1], ' ', P[2], ' ', P[3])"
   ]
  },
  {
   "cell_type": "code",
   "execution_count": 21,
   "metadata": {},
   "outputs": [
    {
     "name": "stdout",
     "output_type": "stream",
     "text": [
      "0   x   x^2 + x   x^5 + 4*x^4 + 7*x^3 + 5*x^2 + x\n"
     ]
    }
   ],
   "source": [
    "Q=[0*x+0, x]\n",
    "for i in range(2,n):\n",
    "    q=Q[i-1]*P[i-1]+x*Q[i-2]*(P[i-2])^3\n",
    "    Q.append(q)\n",
    "print(Q[0], ' ', Q[1], ' ', Q[2], ' ', Q[3])"
   ]
  },
  {
   "cell_type": "code",
   "execution_count": 31,
   "metadata": {
    "scrolled": true
   },
   "outputs": [
    {
     "name": "stdout",
     "output_type": "stream",
     "text": [
      "x^2\n",
      "x^3 + x^2\n",
      "x^10 + 9*x^9 + 37*x^8 + 84*x^7 + 108*x^6 + 79*x^5 + 35*x^4 + 9*x^3 + x^2\n"
     ]
    }
   ],
   "source": [
    "for i in range(2,5):\n",
    "    r=Q[i]-x*(P[i-2])^4\n",
    "    print(r)\n",
    "    # l=list(r)\n",
    "    # pos=True\n",
    "    # for j in range(len(l)):\n",
    "    #     if l[j]<0:\n",
    "    #         pos=False\n",
    "    #         print(\"Fail at\", \"i=\",i,\"j=\",j)         \n",
    "    # if pos:\n",
    "    #     print(\"i=\",i,\"all good\")"
   ]
  },
  {
   "cell_type": "code",
   "execution_count": 23,
   "metadata": {},
   "outputs": [
    {
     "name": "stdout",
     "output_type": "stream",
     "text": [
      "0   x   x^2 + x   x^3 + x^2   x^10 + 9*x^9 + 37*x^8 + 84*x^7 + 108*x^6 + 79*x^5 + 35*x^4 + 9*x^3 + x^2\n"
     ]
    }
   ],
   "source": [
    "print(Q[0], ' ', Q[1], ' ', Q[2], ' ', Q[3]-x*(P[1])^4, ' ',Q[4]-x*(P[2])^4)"
   ]
  },
  {
   "cell_type": "code",
   "execution_count": 24,
   "metadata": {},
   "outputs": [
    {
     "name": "stdout",
     "output_type": "stream",
     "text": [
      "1   x + 1   x^2 + 3*x + 1   2*x^3 + 5*x^2 + 2*x   x^9 + 16*x^8 + 88*x^7 + 242*x^6 + 375*x^5 + 337*x^4 + 172*x^3 + 46*x^2 + 5*x\n"
     ]
    }
   ],
   "source": [
    "print(P[0], ' ', P[1], ' ', P[2], ' ', P[3]-(1+x)^5, ' ', P[4]-(1+x)^10)"
   ]
  },
  {
   "cell_type": "code",
   "execution_count": 25,
   "metadata": {},
   "outputs": [],
   "source": [
    "r=P[5]*(P[2])^3-P[4]*P[4]*P[3]*P[1]*P[1]"
   ]
  },
  {
   "cell_type": "code",
   "execution_count": 26,
   "metadata": {},
   "outputs": [
    {
     "name": "stdout",
     "output_type": "stream",
     "text": [
      "x^26 + 19*x^25 + 169*x^24 + 944*x^23 + 3914*x^22 + 14739*x^21 + 60319*x^20 + 255556*x^19 + 956311*x^18 + 2908774*x^17 + 7048270*x^16 + 13621368*x^15 + 21103317*x^14 + 26317022*x^13 + 26466759*x^12 + 21458602*x^11 + 13991896*x^10 + 7303086*x^9 + 3029241*x^8 + 987850*x^7 + 249310*x^6 + 47567*x^5 + 6617*x^4 + 632*x^3 + 37*x^2 + x\n"
     ]
    }
   ],
   "source": [
    "print(r)"
   ]
  },
  {
   "cell_type": "code",
   "execution_count": null,
   "metadata": {},
   "outputs": [],
   "source": []
  }
 ],
 "metadata": {
  "kernelspec": {
   "display_name": "SageMath 10.3",
   "language": "sage",
   "name": "SageMath-10.3"
  },
  "language_info": {
   "codemirror_mode": {
    "name": "ipython",
    "version": 3
   },
   "file_extension": ".py",
   "mimetype": "text/x-python",
   "name": "python",
   "nbconvert_exporter": "python",
   "pygments_lexer": "ipython3",
   "version": "3.11.1"
  }
 },
 "nbformat": 4,
 "nbformat_minor": 4
}
