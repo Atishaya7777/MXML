{
 "cells": [
  {
   "cell_type": "code",
   "execution_count": null,
   "id": "59d13b6a-2c1a-4774-bbf5-5e3866a3b82e",
   "metadata": {},
   "outputs": [],
   "source": [
    "# Objective: Generate the stars centered around all of the vertices of the path from the root to the left from the left hand side.\n",
    "\n"
   ]
  },
  {
   "cell_type": "code",
   "execution_count": null,
   "id": "e0447e7d-c1e5-4c25-914b-4f2eedad63c8",
   "metadata": {},
   "outputs": [],
   "source": [
    "@lru_cache(maxsize=None) # Unlimited cache size\n",
    "def specific_coclique_size(n):\n",
    "    is_n = (x for x in IndependentSets(tree) if len(x) == n)\n",
    "    is_n = list(is_n)\n",
    "\n",
    "    return is_n"
   ]
  }
 ],
 "metadata": {
  "kernelspec": {
   "display_name": "SageMath 10.3",
   "language": "sage",
   "name": "sagemath-10.3"
  },
  "language_info": {
   "codemirror_mode": {
    "name": "ipython",
    "version": 3
   },
   "file_extension": ".py",
   "mimetype": "text/x-python",
   "name": "python",
   "nbconvert_exporter": "python",
   "pygments_lexer": "ipython3",
   "version": "3.11.1"
  }
 },
 "nbformat": 4,
 "nbformat_minor": 5
}
