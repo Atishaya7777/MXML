{
 "cells": [
  {
   "cell_type": "code",
   "execution_count": 19,
   "id": "6e42409c-899d-40d7-b724-71746f584500",
   "metadata": {},
   "outputs": [],
   "source": [
    "def count_subtrees(binary_encoding):\n",
    "    depth = len(binary_encoding)\n",
    "    \n",
    "    subtree_depths = []\n",
    "    i = 0\n",
    "    \n",
    "    while(depth > 0):\n",
    "        if binary_encoding[i] == '1': \n",
    "            # If the node is included, we don't count its children, but instead count one of the child's subtrees\n",
    "            remaining_depth = depth - 2\n",
    "            if(remaining_depth > 0):\n",
    "                subtree_depths.append(remaining_depth)\n",
    "                subtree_depths.append(remaining_depth)\n",
    "        else: \n",
    "            # print(f\"DEPTH: {depth} | ENCODING: {binary_encoding[i]}\")\n",
    "            remaining_depth = depth - 1\n",
    "            if(remaining_depth > 0):\n",
    "                subtree_depths.append(remaining_depth)\n",
    "\n",
    "        depth -= 1\n",
    "        i += 1\n",
    "    \n",
    "    return len(subtree_depths), subtree_depths\n",
    "\n",
    "def print_count_subtrees(binary_encoding):\n",
    "    print(f\"Encoding: {binary_encoding}\")\n",
    "    num_subtrees, depths = count_subtrees(binary_encoding)\n",
    "    print(f\"Number of subtrees: {num_subtrees}, Depths: {depths}\")\n",
    "\n",
    "def print_encoding_flipped_encoding(binary_encoding):\n",
    "    print_count_subtrees(binary_encoding)\n",
    "    flipped_binary_encoding = binary_encoding[::-1]\n",
    "    print_count_subtrees(flipped_binary_encoding)"
   ]
  },
  {
   "cell_type": "code",
   "execution_count": 20,
   "id": "d6e3347c-2659-4197-a886-bf175c06553d",
   "metadata": {},
   "outputs": [
    {
     "name": "stdout",
     "output_type": "stream",
     "text": [
      "Encoding: 10010\n",
      "Number of subtrees: 4, Depths: [3, 3, 3, 2]\n",
      "Encoding: 01001\n",
      "Number of subtrees: 5, Depths: [4, 2, 2, 2, 1]\n"
     ]
    }
   ],
   "source": [
    "binary_encoding = '10010'\n",
    "\n",
    "print_encoding_flipped_encoding(binary_encoding)"
   ]
  },
  {
   "cell_type": "code",
   "execution_count": 21,
   "id": "dd153dfa-9994-4bec-8949-d87357059523",
   "metadata": {},
   "outputs": [],
   "source": [
    "def get_num_cocliques_subtree(subtrees_depths: list[int]) -> int:\n",
    "    num_cocliques = 0\n",
    "    for d in subtrees_depths:\n",
    "        num_cocliques += 2**(d - 1)\n",
    "\n",
    "    return num_cocliques\n",
    "\n",
    "def count_cocliques(original_encoding):\n",
    "    depth = len(original_encoding)\n",
    "    \n",
    "    _, original_subtrees = count_subtrees(original_encoding)\n",
    "    \n",
    "    flipped_encoding = original_encoding[::-1]\n",
    "    \n",
    "    _, flipped_subtrees = count_subtrees(flipped_encoding)\n",
    "\n",
    "    # We then count the total number of subtrees of depth 1 that both can spare and add them up\n",
    "\n",
    "    num_cocliques_original_subtree = get_num_cocliques_subtree(original_subtrees)\n",
    "    num_cocliques_flipped_subtree = get_num_cocliques_subtree(flipped_subtrees)\n",
    "    \n",
    "    return num_cocliques_original_subtree, num_cocliques_flipped_subtree\n",
    "\n"
   ]
  },
  {
   "cell_type": "code",
   "execution_count": 22,
   "id": "efda9d25-08e2-4d2f-876e-de0e9c3fb067",
   "metadata": {},
   "outputs": [
    {
     "name": "stdout",
     "output_type": "stream",
     "text": [
      "Number of cocliques in the original encoding: 14\n",
      " Number of cocliques in the flipped encoding: 15\n"
     ]
    }
   ],
   "source": [
    "original_encoding = '10010'\n",
    "og_cocliques, flipped_cocliques = count_cocliques(original_encoding)\n",
    "print(f\"Number of cocliques in the original encoding: {og_cocliques}\\n Number of cocliques in the flipped encoding: {flipped_cocliques}\")"
   ]
  },
  {
   "cell_type": "code",
   "execution_count": 27,
   "id": "3b35fad2-f151-4f7d-a4c5-6ff6fc0129a4",
   "metadata": {},
   "outputs": [],
   "source": [
    "import itertools\n",
    "\n",
    "def generate_binary_encodings(length):\n",
    "    return ['1' + ''.join(seq) for seq in itertools.product('01', repeat=length-1)]\n",
    "\n",
    "def print_red(text):\n",
    "    print(f\"\\033[91m{text}\\033[0m\")  # ANSI escape sequence for red text\n",
    "\n",
    "def run_encodings_through_cocliques(length):\n",
    "    binary_encodings = generate_binary_encodings(length)\n",
    "    \n",
    "    for original_encoding in binary_encodings:\n",
    "        og_cocliques, flipped_cocliques = count_cocliques(original_encoding)\n",
    "        flipped_encoding = original_encoding[::-1]\n",
    "        \n",
    "        if og_cocliques > flipped_cocliques:\n",
    "            print_red(f\"Original encoding: {original_encoding}\")\n",
    "            print_red(f\"Flipped encoding:  {flipped_encoding}\")\n",
    "            print_red(f\"Number of cocliques in the original encoding: {og_cocliques}\")\n",
    "            print_red(f\"Number of cocliques in the flipped encoding: {flipped_cocliques}\\n\")\n",
    "        else:\n",
    "            print(f\"Original encoding: {original_encoding}\")\n",
    "            print(f\"Flipped encoding:  {flipped_encoding}\")\n",
    "            print(f\"Number of cocliques in the original encoding: {og_cocliques}\")\n",
    "            print(f\"Number of cocliques in the flipped encoding: {flipped_cocliques}\\n\")\n"
   ]
  },
  {
   "cell_type": "code",
   "execution_count": 31,
   "id": "e44fa2fc-fa99-4738-91fb-b91178f3b966",
   "metadata": {},
   "outputs": [
    {
     "name": "stdout",
     "output_type": "stream",
     "text": [
      "Original encoding: 10000\n",
      "Flipped encoding:  00001\n",
      "Number of cocliques in the original encoding: 15\n",
      "Number of cocliques in the flipped encoding: 15\n",
      "\n",
      "Original encoding: 10001\n",
      "Flipped encoding:  10001\n",
      "Number of cocliques in the original encoding: 15\n",
      "Number of cocliques in the flipped encoding: 15\n",
      "\n",
      "Original encoding: 10010\n",
      "Flipped encoding:  01001\n",
      "Number of cocliques in the original encoding: 14\n",
      "Number of cocliques in the flipped encoding: 15\n",
      "\n",
      "Original encoding: 10011\n",
      "Flipped encoding:  11001\n",
      "Number of cocliques in the original encoding: 14\n",
      "Number of cocliques in the flipped encoding: 15\n",
      "\n",
      "Original encoding: 10100\n",
      "Flipped encoding:  00101\n",
      "Number of cocliques in the original encoding: 15\n",
      "Number of cocliques in the flipped encoding: 15\n",
      "\n",
      "Original encoding: 10101\n",
      "Flipped encoding:  10101\n",
      "Number of cocliques in the original encoding: 15\n",
      "Number of cocliques in the flipped encoding: 15\n",
      "\n",
      "Original encoding: 10110\n",
      "Flipped encoding:  01101\n",
      "Number of cocliques in the original encoding: 14\n",
      "Number of cocliques in the flipped encoding: 15\n",
      "\n",
      "Original encoding: 10111\n",
      "Flipped encoding:  11101\n",
      "Number of cocliques in the original encoding: 14\n",
      "Number of cocliques in the flipped encoding: 15\n",
      "\n",
      "\u001b[91mOriginal encoding: 11000\u001b[0m\n",
      "\u001b[91mFlipped encoding:  00011\u001b[0m\n",
      "\u001b[91mNumber of cocliques in the original encoding: 15\u001b[0m\n",
      "\u001b[91mNumber of cocliques in the flipped encoding: 14\n",
      "\u001b[0m\n",
      "\u001b[91mOriginal encoding: 11001\u001b[0m\n",
      "\u001b[91mFlipped encoding:  10011\u001b[0m\n",
      "\u001b[91mNumber of cocliques in the original encoding: 15\u001b[0m\n",
      "\u001b[91mNumber of cocliques in the flipped encoding: 14\n",
      "\u001b[0m\n",
      "Original encoding: 11010\n",
      "Flipped encoding:  01011\n",
      "Number of cocliques in the original encoding: 14\n",
      "Number of cocliques in the flipped encoding: 14\n",
      "\n",
      "Original encoding: 11011\n",
      "Flipped encoding:  11011\n",
      "Number of cocliques in the original encoding: 14\n",
      "Number of cocliques in the flipped encoding: 14\n",
      "\n",
      "\u001b[91mOriginal encoding: 11100\u001b[0m\n",
      "\u001b[91mFlipped encoding:  00111\u001b[0m\n",
      "\u001b[91mNumber of cocliques in the original encoding: 15\u001b[0m\n",
      "\u001b[91mNumber of cocliques in the flipped encoding: 14\n",
      "\u001b[0m\n",
      "\u001b[91mOriginal encoding: 11101\u001b[0m\n",
      "\u001b[91mFlipped encoding:  10111\u001b[0m\n",
      "\u001b[91mNumber of cocliques in the original encoding: 15\u001b[0m\n",
      "\u001b[91mNumber of cocliques in the flipped encoding: 14\n",
      "\u001b[0m\n",
      "Original encoding: 11110\n",
      "Flipped encoding:  01111\n",
      "Number of cocliques in the original encoding: 14\n",
      "Number of cocliques in the flipped encoding: 14\n",
      "\n",
      "Original encoding: 11111\n",
      "Flipped encoding:  11111\n",
      "Number of cocliques in the original encoding: 14\n",
      "Number of cocliques in the flipped encoding: 14\n",
      "\n"
     ]
    }
   ],
   "source": [
    "run_encodings_through_cocliques(5)"
   ]
  }
 ],
 "metadata": {
  "kernelspec": {
   "display_name": "SageMath 10.3",
   "language": "sage",
   "name": "sagemath-10.3"
  },
  "language_info": {
   "codemirror_mode": {
    "name": "ipython",
    "version": 3
   },
   "file_extension": ".py",
   "mimetype": "text/x-python",
   "name": "python",
   "nbconvert_exporter": "python",
   "pygments_lexer": "ipython3",
   "version": "3.11.1"
  }
 },
 "nbformat": 4,
 "nbformat_minor": 5
}
