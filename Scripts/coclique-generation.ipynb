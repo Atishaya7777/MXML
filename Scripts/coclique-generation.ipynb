{
 "cells": [
  {
   "cell_type": "code",
   "execution_count": 7,
   "id": "d95e9ad2",
   "metadata": {},
   "outputs": [],
   "source": [
    "from sage.graphs.graph import Graph\n",
    "from sage.graphs.independent_sets import IndependentSets\n",
    "\n",
    "# Python Visualization/Calculation libraries\n",
    "import matplotlib.pyplot as plt\n",
    "import numpy as np\n",
    "from collections import Counter\n",
    "\n",
    "# Caching\n",
    "from functools import lru_cache"
   ]
  },
  {
   "cell_type": "code",
   "execution_count": 8,
   "id": "b9b972a0",
   "metadata": {},
   "outputs": [],
   "source": [
    "def perfect_binary_tree_generator(n):\n",
    "    if n == 0:\n",
    "        return Graph()\n",
    "    else:\n",
    "        g = Graph()\n",
    "\n",
    "        g.add_vertices([2^n])\n",
    "        \n",
    "        for j in range(2^(n - 1) - 1, 2^(n - 1) + n - 1):\n",
    "             g.add_edge(j, 2*j + 1, f'{j} to {2*j + 1}')\n",
    "            \n",
    "        for i in range(2^n - 1):\n",
    "            g.add_edge(i, 2*i + 1,  f'{i} to {2*i + 1}')\n",
    "            g.add_edge(i, 2*i + 2, f'{i} to {2*i + 1}')\n",
    "            \n",
    "        for j in range(2^(n-1) - 1, 2^n - 1):\n",
    "            g.add_edge(j, 2*j + 1,  f'{j} to {2*j + 1}')\n",
    "            \n",
    "        return g\n",
    "    \n",
    "# NOTE: This is only for the perfect binary trees. This will not hold for the counter example of lobster graph\n",
    "def get_leaves(n):\n",
    "    num_vertices = 2^(n + 1) - 1 # Adding one to adjust for the 0-indexing\n",
    "    leaves = []\n",
    "    last_row_start = floor(num_vertices / 2)\n",
    "    \n",
    "    for vertex in range(last_row_start, num_vertices):\n",
    "        leaves.append(vertex)\n",
    "    \n",
    "    return leaves"
   ]
  },
  {
   "cell_type": "code",
   "execution_count": 9,
   "id": "f292a353",
   "metadata": {},
   "outputs": [],
   "source": [
    "def counter_example_generator_false(n):\n",
    "    if n == 0:\n",
    "        return Graph()\n",
    "    else:\n",
    "        g = Graph()\n",
    "#         For the counter example, the last row will have half as less leaves ie. 2d / 2 = d. \n",
    "#         Hence, we add the number of vertices until the second last row and d\n",
    "        num_vertices = 2^(n - 1) + n - 1\n",
    "        g.add_vertices([num_vertices])\n",
    "        \n",
    "#         This is to generate the counter example tree\n",
    "        second_last_depth_num = 2^(n - 1) - 1\n",
    "        last_depth_num = 2^(n - 1) # This is correctly add the index as one leaf instead of two for the final depth\n",
    "\n",
    "        for i in range(second_last_depth_num):\n",
    "            g.add_edge(i, 2*i + 1, f'{i} to {2*i + 1}')\n",
    "            g.add_edge(i, 2*i + 2, f'{i} to {2*i + 2}')\n",
    "            \n",
    "        for j in range(second_last_depth_num + 1):\n",
    "            g.add_edge(second_last_depth_num + j, second_last_depth_num + j + last_depth_num)\n",
    "        \n",
    "        return g"
   ]
  },
  {
   "cell_type": "code",
   "execution_count": 14,
   "id": "5974090b",
   "metadata": {},
   "outputs": [],
   "source": [
    "def counter_example_generator_true(m, hd = False): # This m here is the number of paths of length 2 attached to v1 and v2 | hd means hardcoded\n",
    "    if m == 0:\n",
    "        return Graph()\n",
    "    else:\n",
    "        graph_vert_edge = {}\n",
    "        if hd:   \n",
    "            graph_vert_edge = {\n",
    "                0: [1, 2],\n",
    "                1: [3, 4, 5],\n",
    "                2: [6, 7, 8],\n",
    "                3: [9],\n",
    "                4: [10],\n",
    "                5: [11],\n",
    "                6: [12],\n",
    "                7: [13],\n",
    "                8: [14, 15],\n",
    "            }\n",
    "        else:\n",
    "            graph_vert_edge = {\n",
    "                0: [1, 2],\n",
    "                1: [],\n",
    "                2: [],\n",
    "            }\n",
    "            \n",
    "            for i in range(1, 3): # 1 and 2 since range() is exclusive of the end\n",
    "                for j in range(m):\n",
    "                    first_vertex = -1\n",
    "                    second_vertex = -1\n",
    "                    \n",
    "                    if(i == 1):\n",
    "                        first_vertex = 3 * i + j\n",
    "                        second_vertex = 3 * i + j + 2 * m\n",
    "                    else:\n",
    "                        first_vertex = 3 * i + (j + m - 3)\n",
    "                        second_vertex = 3 * i + (j + m - 3) + 2 * m\n",
    "                    \n",
    "                    graph_vert_edge[i].append(first_vertex)\n",
    "                    if(first_vertex not in graph_vert_edge):\n",
    "                        graph_vert_edge[first_vertex] = []\n",
    "                        graph_vert_edge[first_vertex].append(second_vertex)\n",
    "        \n",
    "        print(graph_vert_edge)\n",
    "        \n",
    "        g = Graph(graph_vert_edge)\n",
    "    \n",
    "        \n",
    "        return g"
   ]
  },
  {
   "cell_type": "code",
   "execution_count": 16,
   "id": "5f5258e2",
   "metadata": {},
   "outputs": [
    {
     "name": "stdout",
     "output_type": "stream",
     "text": [
      "{0: [1, 2], 1: [3, 4, 5], 2: [6, 7, 8], 3: [9], 4: [10], 5: [11], 6: [12], 7: [13], 8: [14, 15]}\n",
      "16\n"
     ]
    },
    {
     "ename": "NameError",
     "evalue": "name 'floor' is not defined",
     "output_type": "error",
     "traceback": [
      "\u001b[0;31m---------------------------------------------------------------------------\u001b[0m",
      "\u001b[0;31mNameError\u001b[0m                                 Traceback (most recent call last)",
      "Cell \u001b[0;32mIn[16], line 8\u001b[0m\n\u001b[1;32m      6\u001b[0m tree \u001b[38;5;241m=\u001b[39m counter_example_generator_true(m, \u001b[38;5;28;01mTrue\u001b[39;00m)\n\u001b[1;32m      7\u001b[0m \u001b[38;5;28mprint\u001b[39m(tree\u001b[38;5;241m.\u001b[39morder())\n\u001b[0;32m----> 8\u001b[0m leaves \u001b[38;5;241m=\u001b[39m \u001b[43mget_leaves\u001b[49m\u001b[43m(\u001b[49m\u001b[43mdepth\u001b[49m\u001b[43m)\u001b[49m\n\u001b[1;32m      9\u001b[0m leaves\n",
      "Cell \u001b[0;32mIn[8], line 25\u001b[0m, in \u001b[0;36mget_leaves\u001b[0;34m(n)\u001b[0m\n\u001b[1;32m     23\u001b[0m num_vertices \u001b[38;5;241m=\u001b[39m \u001b[38;5;241m2\u001b[39m\u001b[38;5;241m^\u001b[39m(n \u001b[38;5;241m+\u001b[39m \u001b[38;5;241m1\u001b[39m) \u001b[38;5;241m-\u001b[39m \u001b[38;5;241m1\u001b[39m \u001b[38;5;66;03m# Adding one to adjust for the 0-indexing\u001b[39;00m\n\u001b[1;32m     24\u001b[0m leaves \u001b[38;5;241m=\u001b[39m []\n\u001b[0;32m---> 25\u001b[0m last_row_start \u001b[38;5;241m=\u001b[39m \u001b[43mfloor\u001b[49m(num_vertices \u001b[38;5;241m/\u001b[39m \u001b[38;5;241m2\u001b[39m)\n\u001b[1;32m     27\u001b[0m \u001b[38;5;28;01mfor\u001b[39;00m vertex \u001b[38;5;129;01min\u001b[39;00m \u001b[38;5;28mrange\u001b[39m(last_row_start, num_vertices):\n\u001b[1;32m     28\u001b[0m     leaves\u001b[38;5;241m.\u001b[39mappend(vertex)\n",
      "\u001b[0;31mNameError\u001b[0m: name 'floor' is not defined"
     ]
    }
   ],
   "source": [
    "depth = 3 # Note that the depth defined here is actually depth - 1 because we are 0-indexing\n",
    "m = 7 # This is for the counter example only\n",
    "\n",
    "# tree = perfect_binary_tree_generator(depth)\n",
    "# tree = counter_example_generator_false(depth)\n",
    "tree = counter_example_generator_true(m, True)\n",
    "print(tree.order())\n",
    "leaves = get_leaves(depth)\n",
    "leaves"
   ]
  },
  {
   "cell_type": "code",
   "execution_count": null,
   "id": "ee19a6dc",
   "metadata": {
    "scrolled": true
   },
   "outputs": [],
   "source": [
    "def perfect_binary_tree_plot():\n",
    "#     tree.plot()\n",
    "#     tree.show()\n",
    "     tree_layout = tree.layout(layout='tree', orientation='bottom-top')\n",
    "     tree.show(layout=\"tree\", tree_root=0, figsize=[15, 15]) # 8x8 inches\n",
    "\n",
    "perfect_binary_tree_plot()"
   ]
  },
  {
   "cell_type": "code",
   "execution_count": null,
   "id": "7a608d22",
   "metadata": {},
   "outputs": [],
   "source": [
    "def is_rooted_at(v, arr):\n",
    "#     print(f'This is the leaf: {v}')\n",
    "    return list(i for i in arr if v in i)\n",
    "\n",
    "def get_num_vertices(depth):\n",
    "    return pow(depth + 1, 2) - 1"
   ]
  },
  {
   "cell_type": "code",
   "execution_count": null,
   "id": "e0bf4c2d",
   "metadata": {},
   "outputs": [],
   "source": [
    "alpha = tree.independent_set() # I think this shows the maximal. Doc: https://doc.sagemath.org/html/en/reference/graphs/sage/graphs/graph.html#sage.graphs.graph.Graph.independent_set\n",
    "cardinality_alpha = len(alpha)\n",
    "print(alpha)\n",
    "cardinality_alpha"
   ]
  },
  {
   "cell_type": "code",
   "execution_count": null,
   "id": "9b68d17a-75c3-4d7e-8ecf-29c043364aef",
   "metadata": {},
   "outputs": [],
   "source": [
    "def get_max_num(depth):\n",
    "    tree = perfect_binary_tree_generator(depth)\n",
    "    max_independent_set = tree.independent_set()\n",
    "    print(f\"Depth: {depth}, Num of vertices: {2^(depth + 1) - 1} , Alpha: {len(max_independent_set)} \\n\")"
   ]
  },
  {
   "cell_type": "code",
   "execution_count": null,
   "id": "730a673f",
   "metadata": {},
   "outputs": [],
   "source": [
    "@lru_cache(maxsize=None) # Unlimited cache size\n",
    "def specific_coclique_size(n):\n",
    "    is_n = (x for x in IndependentSets(tree) if len(x) == n)\n",
    "    is_n = list(is_n)\n",
    "\n",
    "    return is_n"
   ]
  },
  {
   "cell_type": "code",
   "execution_count": null,
   "id": "1c699000",
   "metadata": {
    "scrolled": true
   },
   "outputs": [],
   "source": [
    "\n",
    "# # Use this cell to generate large amounts of cocliques and then the specific_coclique_size function will be cached\n",
    "\n",
    "coclique_sizes = np.array(range(1, len(alpha) + 1))\n",
    "cocliques = np.asarray(list(specific_coclique_size(i) for i in coclique_sizes), dtype=\"object\")\n",
    "# Shape: 3 Dimensional array. The first index is the size of the coclique, the second index is the index of the size of the coclique\n",
    "# cocliques[5] # This will give you a 2D array of all cocliques of size 5"
   ]
  },
  {
   "cell_type": "code",
   "execution_count": null,
   "id": "86af709b-c7ef-4ba6-97f5-d07a724b80d5",
   "metadata": {},
   "outputs": [],
   "source": [
    "test = specific_coclique_size(7)\n",
    "print(len(test))\n",
    "print(tree.order())"
   ]
  },
  {
   "cell_type": "code",
   "execution_count": null,
   "id": "c78a62b2-8be4-4d1a-85ea-76112886c9ec",
   "metadata": {},
   "outputs": [],
   "source": [
    "def plot_coclique_vertices_size(curr_coclique_size: int):\n",
    "    tree_vertices = np.array(range(get_num_vertices(depth)))\n",
    "    print(tree_vertices)\n",
    "    curr_coclique = specific_coclique_size(40) # Get cocliques of size curr_coclique_size\n",
    "    \n",
    "    coclique_vertices = [vertex for coclique in curr_coclique for vertex in coclique]\n",
    "\n",
    "    # Count the occurrences of each vertex in the cocliques\n",
    "    vertex_counts = Counter(coclique_vertices)\n",
    "\n",
    "    # Get the count of each vertex in tree_vertices, which will be 0 for vertices that do not appear in the cocliques\n",
    "    vertex_counts = [vertex_counts.get(vertex, 0) for vertex in tree_vertices]\n",
    "\n",
    "    plt.plot(tree_vertices, vertex_counts)\n",
    "    plt.xlabel(\"Vertices\")\n",
    "    plt.ylabel(\"Frequence of Appearance\")\n",
    "    plt.ylim(bottom=0) \n",
    "    plt.title(f\"Coclique size of {curr_coclique_size}\")\n",
    "    plt.show()"
   ]
  },
  {
   "cell_type": "code",
   "execution_count": null,
   "id": "db12024d",
   "metadata": {},
   "outputs": [],
   "source": [
    "def plot_coclique_vertices_size(curr_coclique_size: int):\n",
    "    tree_vertices = np.array(range(tree.order()))\n",
    "    print(tree_vertices)\n",
    "    curr_coclique = cocliques[curr_coclique_size - 1] # Get cocliques of size curr_coclique_size\n",
    "    \n",
    "    coclique_vertices = [vertex for coclique in curr_coclique for vertex in coclique]\n",
    "\n",
    "    # Count the occurrences of each vertex in the cocliques\n",
    "    vertex_counts = Counter(coclique_vertices)\n",
    "\n",
    "    # Get the count of each vertex in tree_vertices, which will be 0 for vertices that do not appear in the cocliques\n",
    "    vertex_counts = [vertex_counts.get(vertex, 0) for vertex in tree_vertices]\n",
    "\n",
    "    plt.plot(tree_vertices, vertex_counts)\n",
    "    plt.xlabel(\"Vertices\")\n",
    "    plt.ylabel(\"Frequence of Appearance\")\n",
    "    plt.ylim(bottom=0) \n",
    "    plt.title(f\"Coclique size of {curr_coclique_size}\")\n",
    "    plt.savefig(f\"size_{curr_coclique_size}.png\", bbox_inches='tight')\n",
    "    plt.show()\n"
   ]
  },
  {
   "cell_type": "code",
   "execution_count": null,
   "id": "5e975f18",
   "metadata": {},
   "outputs": [],
   "source": [
    "plot_coclique_vertices_size(6)"
   ]
  },
  {
   "cell_type": "code",
   "execution_count": null,
   "id": "d2cea6c9",
   "metadata": {},
   "outputs": [],
   "source": [
    "for i in range(5, cardinality_alpha + 1):\n",
    "    plot_coclique_vertices_size(i)"
   ]
  }
 ],
 "metadata": {
  "kernelspec": {
   "display_name": "Python 3 (ipykernel)",
   "language": "python",
   "name": "python3"
  },
  "language_info": {
   "codemirror_mode": {
    "name": "ipython",
    "version": 3
   },
   "file_extension": ".py",
   "mimetype": "text/x-python",
   "name": "python",
   "nbconvert_exporter": "python",
   "pygments_lexer": "ipython3",
   "version": "3.11.1"
  }
 },
 "nbformat": 4,
 "nbformat_minor": 5
}
