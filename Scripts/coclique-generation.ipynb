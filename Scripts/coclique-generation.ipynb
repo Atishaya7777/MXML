{
 "cells": [
  {
   "cell_type": "code",
   "execution_count": 1,
   "id": "d95e9ad2",
   "metadata": {},
   "outputs": [],
   "source": [
    "from sage.graphs.graph import Graph\n",
    "from sage.graphs.independent_sets import IndependentSets"
   ]
  },
  {
   "cell_type": "code",
   "execution_count": 2,
   "id": "b9b972a0",
   "metadata": {},
   "outputs": [],
   "source": [
    "def perfect_binary_tree_generator(n):\n",
    "    if n == 0:\n",
    "        return Graph()\n",
    "    else:\n",
    "        g = Graph()\n",
    "        g.add_vertices([2^(n - 1)])\n",
    "        for i in range(2^(n-1) - 1):\n",
    "            g.add_edge(i, 2*i + 1, f'{i} to {2*i + 1}')\n",
    "            g.add_edge(i, 2*i + 2,  f'{i} to {2*i + 1}')\n",
    "        return g\n",
    "    \n",
    "def get_leaves(n):\n",
    "    num_vertices = 2^(n - 1)\n",
    "    leaves = []\n",
    "    last_row_start = int(log(n - 1, 2)) - 1\n",
    "    \n",
    "    for vertex in range(last_row_start, num_vertices):\n",
    "        leaves.append(vertex + num_vertices - 1)\n",
    "    \n",
    "    return leaves"
   ]
  },
  {
   "cell_type": "code",
   "execution_count": 3,
   "id": "5f5258e2",
   "metadata": {},
   "outputs": [
    {
     "data": {
      "text/plain": [
       "[16, 17, 18, 19, 20, 21, 22, 23, 24, 25, 26, 27, 28, 29, 30]"
      ]
     },
     "execution_count": 3,
     "metadata": {},
     "output_type": "execute_result"
    }
   ],
   "source": [
    "depth = 5\n",
    "\n",
    "tree = perfect_binary_tree_generator(depth)\n",
    "leaves = get_leaves(depth)\n",
    "leaves"
   ]
  },
  {
   "cell_type": "code",
   "execution_count": 4,
   "id": "ee19a6dc",
   "metadata": {
    "scrolled": false
   },
   "outputs": [
    {
     "data": {
      "image/png": "[encoded data removed]",
      "text/plain": [
       "Graphics object consisting of 62 graphics primitives"
      ]
     },
     "metadata": {},
     "output_type": "display_data"
    }
   ],
   "source": [
    "def perfect_binary_tree_plot():\n",
    "    tree_layout = tree.layout(layout='tree', orientation='bottom-top')\n",
    "    tree.show(layout=\"tree\", tree_root=0, figsize=[8, 8]) # 8x8 inches\n",
    "\n",
    "perfect_binary_tree_plot()"
   ]
  },
  {
   "cell_type": "code",
   "execution_count": 5,
   "id": "7a608d22",
   "metadata": {},
   "outputs": [],
   "source": [
    "def is_rooted_at(v, arr):\n",
    "#     print(f'This is the leaf: {v}')\n",
    "    return list(i for i in arr if v in i)"
   ]
  },
  {
   "cell_type": "code",
   "execution_count": 6,
   "id": "e0bf4c2d",
   "metadata": {},
   "outputs": [
    {
     "name": "stdout",
     "output_type": "stream",
     "text": [
      "[16, 0, 3, 4, 5, 6, 15, 17, 18, 19, 20, 21, 22, 23, 24, 25, 26, 27, 28, 29, 30]\n"
     ]
    },
    {
     "data": {
      "text/plain": [
       "21"
      ]
     },
     "execution_count": 6,
     "metadata": {},
     "output_type": "execute_result"
    }
   ],
   "source": [
    "max_independent_set = tree.independent_set() # I think this shows the maximal. Doc: https://doc.sagemath.org/html/en/reference/graphs/sage/graphs/graph.html#sage.graphs.graph.Graph.independent_set\n",
    "print(max_independent_set)\n",
    "len(max_independent_set)"
   ]
  },
  {
   "cell_type": "code",
   "execution_count": 11,
   "id": "730a673f",
   "metadata": {},
   "outputs": [],
   "source": [
    "def specific_coclique_size(n):\n",
    "    path = [0, 1, 3, 7, 16]\n",
    "    is_n = (x for x in IndependentSets(tree) if len(x) == n)\n",
    "    is_n = list(is_n)\n",
    "    \n",
    "    is_path = []\n",
    "    \n",
    "    for i in path:\n",
    "        print(f'Vertex: {i}. Independent set: {len(is_rooted_at(i, is_n))}')\n",
    "#         is_path.append(is_rooted_at(i, is_n))\n",
    "\n",
    "#     is_path = (i for i in path is_rooted_at(i, is_n))\n",
    "#     print(is_path)\n",
    "#     coclique_root = is_rooted_at(0, is4)\n",
    "#     print(f\"ROOT: {len(coclique_root)}\")\n",
    "    \n",
    "\n",
    "#     coclique_lengths = [len(is_rooted_at(leaf, is4)) for leaf in leaves]\n",
    "\n",
    "#     print(f\"LEAVES:{coclique_lengths}\")\n",
    "#     print(len(coclique_lengths))"
   ]
  },
  {
   "cell_type": "code",
   "execution_count": 18,
   "id": "c261d45d",
   "metadata": {},
   "outputs": [
    {
     "name": "stdout",
     "output_type": "stream",
     "text": [
      "COCLIQUE SIZE: 5\n",
      "Vertex: 0. Independent set: 13599\n",
      "Vertex: 1. Independent set: 11684\n",
      "Vertex: 3. Independent set: 12067\n",
      "Vertex: 7. Independent set: 11062\n",
      "Vertex: 16. Independent set: 15519\n",
      "\n",
      "\n",
      "COCLIQUE SIZE: 6\n",
      "Vertex: 0. Independent set: 49120\n",
      "Vertex: 1. Independent set: 40300\n",
      "Vertex: 3. Independent set: 43102\n",
      "Vertex: 7. Independent set: 36821\n",
      "Vertex: 16. Independent set: 57826\n",
      "\n",
      "\n",
      "COCLIQUE SIZE: 7\n",
      "Vertex: 0. Independent set: 131142\n",
      "Vertex: 1. Independent set: 101713\n",
      "Vertex: 3. Independent set: 114978\n",
      "Vertex: 7. Independent set: 89025\n",
      "Vertex: 16. Independent set: 159005\n",
      "\n",
      "\n",
      "COCLIQUE SIZE: 8\n",
      "Vertex: 0. Independent set: 265784\n",
      "Vertex: 1. Independent set: 191692\n",
      "Vertex: 3. Independent set: 235070\n",
      "Vertex: 7. Independent set: 159806\n",
      "Vertex: 16. Independent set: 330650\n",
      "\n",
      "\n",
      "COCLIQUE SIZE: 9\n",
      "Vertex: 0. Independent set: 417547\n",
      "Vertex: 1. Independent set: 273233\n",
      "Vertex: 3. Independent set: 375237\n",
      "Vertex: 7. Independent set: 216274\n",
      "Vertex: 16. Independent set: 529331\n",
      "\n",
      "\n",
      "COCLIQUE SIZE: 10\n",
      "Vertex: 0. Independent set: 517428\n",
      "Vertex: 1. Independent set: 296971\n",
      "Vertex: 3. Independent set: 474219\n",
      "Vertex: 7. Independent set: 223296\n",
      "Vertex: 16. Independent set: 661556\n",
      "\n",
      "\n",
      "COCLIQUE SIZE: 11\n",
      "Vertex: 0. Independent set: 513096\n",
      "Vertex: 1. Independent set: 247372\n",
      "Vertex: 3. Independent set: 479562\n",
      "Vertex: 7. Independent set: 177570\n",
      "Vertex: 16. Independent set: 653099\n",
      "\n",
      "\n",
      "COCLIQUE SIZE: 12\n",
      "Vertex: 0. Independent set: 411552\n",
      "Vertex: 1. Independent set: 158304\n",
      "Vertex: 3. Independent set: 391184\n",
      "Vertex: 7. Independent set: 109544\n",
      "Vertex: 16. Independent set: 514443\n",
      "\n",
      "\n",
      "COCLIQUE SIZE: 13\n",
      "Vertex: 0. Independent set: 268796\n",
      "Vertex: 1. Independent set: 77776\n",
      "Vertex: 3. Independent set: 258770\n",
      "Vertex: 7. Independent set: 52642\n",
      "Vertex: 16. Independent set: 326041\n",
      "\n",
      "\n",
      "COCLIQUE SIZE: 14\n",
      "Vertex: 0. Independent set: 143264\n",
      "Vertex: 1. Independent set: 29188\n",
      "Vertex: 3. Independent set: 139122\n",
      "Vertex: 7. Independent set: 19700\n",
      "Vertex: 16. Independent set: 167257\n",
      "\n",
      "\n",
      "COCLIQUE SIZE: 15\n",
      "Vertex: 0. Independent set: 62130\n",
      "Vertex: 1. Independent set: 8265\n",
      "Vertex: 3. Independent set: 60671\n",
      "Vertex: 7. Independent set: 5696\n",
      "Vertex: 16. Independent set: 69603\n",
      "\n",
      "\n",
      "COCLIQUE SIZE: 16\n",
      "Vertex: 0. Independent set: 21724\n",
      "Vertex: 1. Independent set: 1722\n",
      "Vertex: 3. Independent set: 21298\n",
      "Vertex: 7. Independent set: 1245\n",
      "Vertex: 16. Independent set: 23405\n",
      "\n",
      "\n",
      "COCLIQUE SIZE: 17\n",
      "Vertex: 0. Independent set: 6017\n",
      "Vertex: 1. Independent set: 251\n",
      "Vertex: 3. Independent set: 5922\n",
      "Vertex: 7. Independent set: 196\n",
      "Vertex: 16. Independent set: 6275\n",
      "\n",
      "\n",
      "COCLIQUE SIZE: 18\n",
      "Vertex: 0. Independent set: 1280\n",
      "Vertex: 1. Independent set: 23\n",
      "Vertex: 3. Independent set: 1266\n",
      "Vertex: 7. Independent set: 20\n",
      "Vertex: 16. Independent set: 1304\n",
      "\n",
      "\n",
      "COCLIQUE SIZE: 19\n",
      "Vertex: 0. Independent set: 198\n",
      "Vertex: 1. Independent set: 1\n",
      "Vertex: 3. Independent set: 197\n",
      "Vertex: 7. Independent set: 1\n",
      "Vertex: 16. Independent set: 199\n",
      "\n",
      "\n",
      "COCLIQUE SIZE: 20\n",
      "Vertex: 0. Independent set: 20\n",
      "Vertex: 1. Independent set: 0\n",
      "Vertex: 3. Independent set: 20\n",
      "Vertex: 7. Independent set: 0\n",
      "Vertex: 16. Independent set: 20\n",
      "\n",
      "\n",
      "COCLIQUE SIZE: 21\n",
      "Vertex: 0. Independent set: 1\n",
      "Vertex: 1. Independent set: 0\n",
      "Vertex: 3. Independent set: 1\n",
      "Vertex: 7. Independent set: 0\n",
      "Vertex: 16. Independent set: 1\n",
      "\n",
      "\n"
     ]
    }
   ],
   "source": [
    "for i in range(5, 22):\n",
    "    print(f\"COCLIQUE SIZE: {i}\")\n",
    "    specific_coclique_size(i)\n",
    "    print(\"\\n\")\n",
    "# specific_coclique_size()"
   ]
  },
  {
   "cell_type": "code",
   "execution_count": null,
   "id": "1c699000",
   "metadata": {},
   "outputs": [],
   "source": []
  }
 ],
 "metadata": {
  "kernelspec": {
   "display_name": "SageMath 9.5",
   "language": "sage",
   "name": "sagemath"
  },
  "language_info": {
   "codemirror_mode": {
    "name": "ipython",
    "version": 3
   },
   "file_extension": ".py",
   "mimetype": "text/x-python",
   "name": "python",
   "nbconvert_exporter": "python",
   "pygments_lexer": "ipython3",
   "version": "3.10.12"
  }
 },
 "nbformat": 4,
 "nbformat_minor": 5
}
