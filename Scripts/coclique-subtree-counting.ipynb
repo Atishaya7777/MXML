{
 "cells": [
  {
   "cell_type": "code",
   "execution_count": 32,
   "id": "6e42409c-899d-40d7-b724-71746f584500",
   "metadata": {},
   "outputs": [],
   "source": [
    "def count_subtrees(binary_encoding):\n",
    "    depth = len(binary_encoding)\n",
    "    \n",
    "    subtree_depths = []\n",
    "    i = 0\n",
    "    \n",
    "    while(depth > 0):\n",
    "        if binary_encoding[i] == '1': \n",
    "            # If the node is included, we don't count its children, but instead count one of the child's subtrees\n",
    "            remaining_depth = depth - 2\n",
    "            if(remaining_depth > 0):\n",
    "                subtree_depths.append(remaining_depth)\n",
    "                subtree_depths.append(remaining_depth)\n",
    "        else: \n",
    "            remaining_depth = depth - 1\n",
    "            if(remaining_depth > 0):\n",
    "                subtree_depths.append(remaining_depth)\n",
    "\n",
    "        depth -= 1\n",
    "        i += 1\n",
    "    \n",
    "    return len(subtree_depths), subtree_depths\n",
    "\n",
    "def print_count_subtrees(binary_encoding):\n",
    "    print(f\"Encoding: {binary_encoding}\")\n",
    "    num_subtrees, depths = count_subtrees(binary_encoding)\n",
    "    print(f\"Number of subtrees: {num_subtrees}, Depths: {depths}\")\n",
    "\n",
    "def print_encoding_flipped_encoding(binary_encoding):\n",
    "    print_count_subtrees(binary_encoding)\n",
    "    flipped_binary_encoding = binary_encoding[::-1]\n",
    "    print_count_subtrees(flipped_binary_encoding)"
   ]
  },
  {
   "cell_type": "code",
   "execution_count": 33,
   "id": "d6e3347c-2659-4197-a886-bf175c06553d",
   "metadata": {},
   "outputs": [
    {
     "name": "stdout",
     "output_type": "stream",
     "text": [
      "Encoding: 10010\n",
      "Number of subtrees: 4, Depths: [3, 3, 3, 2]\n",
      "Encoding: 01001\n",
      "Number of subtrees: 5, Depths: [4, 2, 2, 2, 1]\n"
     ]
    }
   ],
   "source": [
    "binary_encoding = '10010'\n",
    "\n",
    "print_encoding_flipped_encoding(binary_encoding)"
   ]
  }
 ],
 "metadata": {
  "kernelspec": {
   "display_name": "SageMath 10.3",
   "language": "sage",
   "name": "sagemath-10.3"
  },
  "language_info": {
   "codemirror_mode": {
    "name": "ipython",
    "version": 3
   },
   "file_extension": ".py",
   "mimetype": "text/x-python",
   "name": "python",
   "nbconvert_exporter": "python",
   "pygments_lexer": "ipython3",
   "version": "3.11.1"
  }
 },
 "nbformat": 4,
 "nbformat_minor": 5
}
