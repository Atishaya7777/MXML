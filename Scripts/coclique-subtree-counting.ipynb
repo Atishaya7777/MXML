{
 "cells": [
  {
   "cell_type": "code",
   "execution_count": 4,
   "id": "6e42409c-899d-40d7-b724-71746f584500",
   "metadata": {},
   "outputs": [],
   "source": [
    "def count_subtrees(binary_encoding):\n",
    "    depth = len(binary_encoding)\n",
    "    \n",
    "    subtree_depths = []\n",
    "    i = 0\n",
    "    \n",
    "    while(depth > 0):\n",
    "        if binary_encoding[i] == '1': \n",
    "            # If the node is included, we don't count its children, but instead count one of the child's subtrees\n",
    "            remaining_depth = depth - 2\n",
    "            if(remaining_depth > 0):\n",
    "                subtree_depths.append(remaining_depth)\n",
    "                subtree_depths.append(remaining_depth)\n",
    "        else: \n",
    "            # print(f\"DEPTH: {depth} | ENCODING: {binary_encoding[i]}\")\n",
    "            remaining_depth = depth - 1\n",
    "            if(remaining_depth > 0):\n",
    "                subtree_depths.append(remaining_depth)\n",
    "\n",
    "        depth -= 1\n",
    "        i += 1\n",
    "    \n",
    "    return len(subtree_depths), subtree_depths\n",
    "\n",
    "def print_count_subtrees(binary_encoding):\n",
    "    print(f\"Encoding: {binary_encoding}\")\n",
    "    num_subtrees, depths = count_subtrees(binary_encoding)\n",
    "    print(f\"Number of subtrees: {num_subtrees}, Depths: {depths}\")\n",
    "\n",
    "def print_encoding_flipped_encoding(binary_encoding):\n",
    "    print_count_subtrees(binary_encoding)\n",
    "    flipped_binary_encoding = binary_encoding[::-1]\n",
    "    print_count_subtrees(flipped_binary_encoding)"
   ]
  },
  {
   "cell_type": "code",
   "execution_count": 3,
   "id": "d6e3347c-2659-4197-a886-bf175c06553d",
   "metadata": {},
   "outputs": [
    {
     "name": "stdout",
     "output_type": "stream",
     "text": [
      "Encoding: 1001\n",
      "Number of subtrees: 4, Depths: [2, 2, 2, 1]\n",
      "Encoding: 1001\n",
      "Number of subtrees: 4, Depths: [2, 2, 2, 1]\n"
     ]
    }
   ],
   "source": [
    "binary_encoding = '1001'\n",
    "\n",
    "print_encoding_flipped_encoding(binary_encoding)"
   ]
  },
  {
   "cell_type": "code",
   "execution_count": 5,
   "id": "dd153dfa-9994-4bec-8949-d87357059523",
   "metadata": {},
   "outputs": [],
   "source": [
    "def get_num_cocliques_subtree(subtrees_depths: list[int]) -> int:\n",
    "    num_cocliques = 0\n",
    "    for d in subtrees_depths:\n",
    "        num_cocliques += 2**(d - 1)\n",
    "\n",
    "    return num_cocliques\n",
    "\n",
    "def count_cocliques(original_encoding):\n",
    "    depth = len(original_encoding)\n",
    "    \n",
    "    _, original_subtrees = count_subtrees(original_encoding)\n",
    "    \n",
    "    flipped_encoding = original_encoding[::-1]\n",
    "    \n",
    "    _, flipped_subtrees = count_subtrees(flipped_encoding)\n",
    "\n",
    "    # We then count the total number of subtrees of depth 1 that both can spare and add them up\n",
    "\n",
    "    num_cocliques_original_subtree = get_num_cocliques_subtree(original_subtrees)\n",
    "    num_cocliques_flipped_subtree = get_num_cocliques_subtree(flipped_subtrees)\n",
    "    \n",
    "    return num_cocliques_original_subtree, num_cocliques_flipped_subtree\n",
    "\n"
   ]
  },
  {
   "cell_type": "code",
   "execution_count": 6,
   "id": "efda9d25-08e2-4d2f-876e-de0e9c3fb067",
   "metadata": {},
   "outputs": [
    {
     "name": "stdout",
     "output_type": "stream",
     "text": [
      "Number of cocliques in the original encoding: 14\n",
      " Number of cocliques in the flipped encoding: 15\n"
     ]
    }
   ],
   "source": [
    "original_encoding = '10010'\n",
    "og_cocliques, flipped_cocliques = count_cocliques(original_encoding)\n",
    "print(f\"Number of cocliques in the original encoding: {og_cocliques}\\n Number of cocliques in the flipped encoding: {flipped_cocliques}\")"
   ]
  },
  {
   "cell_type": "code",
   "execution_count": 7,
   "id": "3b35fad2-f151-4f7d-a4c5-6ff6fc0129a4",
   "metadata": {},
   "outputs": [],
   "source": [
    "import itertools\n",
    "\n",
    "def generate_binary_encodings(length):\n",
    "    return ['' + ''.join(seq) for seq in itertools.product('01', repeat=length-1)]\n",
    "\n",
    "def print_red(text):\n",
    "    print(f\"\\033[91m{text}\\033[0m\")  # ANSI escape sequence for red text\n",
    "\n",
    "def run_encodings_through_cocliques(length):\n",
    "    binary_encodings = generate_binary_encodings(length)\n",
    "    \n",
    "    for original_encoding in binary_encodings:\n",
    "        og_cocliques, flipped_cocliques = count_cocliques(original_encoding)\n",
    "        flipped_encoding = original_encoding[::-1]\n",
    "        \n",
    "        if og_cocliques > flipped_cocliques:\n",
    "            print_red(f\"Original encoding: {original_encoding}\")\n",
    "            print_red(f\"Flipped encoding:  {flipped_encoding}\")\n",
    "            print_red(f\"Number of cocliques in the original encoding: {og_cocliques}\")\n",
    "            print_red(f\"Number of cocliques in the flipped encoding: {flipped_cocliques}\\n\")\n",
    "        else:\n",
    "            print(f\"Original encoding: {original_encoding}\")\n",
    "            print(f\"Flipped encoding:  {flipped_encoding}\")\n",
    "            print(f\"Number of cocliques in the original encoding: {og_cocliques}\")\n",
    "            print(f\"Number of cocliques in the flipped encoding: {flipped_cocliques}\\n\")\n"
   ]
  },
  {
   "cell_type": "code",
   "execution_count": 27,
   "id": "7fdd3ca0-d986-41e9-8351-81d46a2c070a",
   "metadata": {},
   "outputs": [],
   "source": [
    "import itertools\n",
    "\n",
    "def generate_binary_encodings(length):\n",
    "    return ['' + ''.join(seq) for seq in itertools.product('01', repeat=length-1)]\n",
    "\n",
    "def print_red(text):\n",
    "    print(f\"\\033[91m{text}\\033[0m\")  # ANSI escape sequence for red text\n",
    "\n",
    "def get_filtered_encodings(length, print_flag):\n",
    "    binary_encodings = generate_binary_encodings(length + 1)\n",
    "    filtered_binary_encodings = [e for e in binary_encodings if (e[0] != '1' or e[len(e) - 1] != '1') and ('11' not in e)]\n",
    "\n",
    "    if(print_flag):\n",
    "         for original_encoding in filtered_binary_encodings:\n",
    "            print(original_encoding)\n",
    "\n",
    "    return filtered_binary_encodings\n"
   ]
  },
  {
   "cell_type": "code",
   "execution_count": 31,
   "id": "e44fa2fc-fa99-4738-91fb-b91178f3b966",
   "metadata": {},
   "outputs": [
    {
     "name": "stdout",
     "output_type": "stream",
     "text": [
      "['0000', '0001', '0010', '0100', '0101', '1000', '1010']\n"
     ]
    }
   ],
   "source": [
    "f_e = get_filtered_encodings(4, False)\n",
    "print(f_e)"
   ]
  }
 ],
 "metadata": {
  "kernelspec": {
   "display_name": "SageMath 10.3",
   "language": "sage",
   "name": "sagemath-10.3"
  },
  "language_info": {
   "codemirror_mode": {
    "name": "ipython",
    "version": 3
   },
   "file_extension": ".py",
   "mimetype": "text/x-python",
   "name": "python",
   "nbconvert_exporter": "python",
   "pygments_lexer": "ipython3",
   "version": "3.11.1"
  }
 },
 "nbformat": 4,
 "nbformat_minor": 5
}
