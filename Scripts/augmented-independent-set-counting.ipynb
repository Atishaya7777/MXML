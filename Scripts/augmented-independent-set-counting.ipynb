{
 "cells": [
  {
   "cell_type": "code",
   "execution_count": 45,
   "id": "1c610822-ac33-4704-a350-4ee9559fd31d",
   "metadata": {},
   "outputs": [],
   "source": [
    "# Note that E represents the encoding that we are testing it out for. We know that for |E| <= 5, the statement holds by raw computation.\n",
    "# What about when |E| >= 6? The purpose here is to generate different permutations of E such that the root is included.\n",
    "# We will then generate E' with E and also run computations with E' such that we get different coefficients in the polynomials."
   ]
  },
  {
   "cell_type": "code",
   "execution_count": 46,
   "id": "68726f6c-df6c-4dc4-99f6-aa2b1d278905",
   "metadata": {},
   "outputs": [],
   "source": [
    "# Note that we have the current recurrence relation to determine the number of subtrees obtained from a given encoding as follows:\n",
    "# F(n,e) = 0, if n = 0\n",
    "# F(n,e) = 2F(n - 2, e[1:]), if e[0] = 1\n",
    "# F(n,e) = F(n - 1, e[1:]), if e[0] = 0\n",
    "# Then, we can turn that recurrence relation into a generating function polynomial given by:\n",
    "# P_{n,e}(x)= \\prod_{i=1}^{n} [(1-e_i)*( P_{n-i}(x) )+(e_i)*x*[P_{n-(i+1)}(x)]^2]\n",
    "# Where the end levels of the base case is: P_{-1} =P_{0} = 1 for computations on last levels (i=n, n-1).\n",
    "\n",
    "R.<x> = PolynomialRing(QQ)\n",
    "\n",
    "# Base cases for P(-1) and P(0)\n",
    "def P(n, e):\n",
    "    if n == -1 or n == 0:\n",
    "        return R(1)\n",
    "    \n",
    "    result = R(1)\n",
    "    for i in range(1, n + 1):\n",
    "        term1 = (1 - e[i-1]) * P(n - i, e) # Recursive call #1\n",
    "        term2 = e[i-1] * x * (P(n - (i + 1), e))^2 # Recursive call #2\n",
    "        result *= (term1 + term2)\n",
    "    \n",
    "    return result"
   ]
  },
  {
   "cell_type": "code",
   "execution_count": 47,
   "id": "590bc09a-6756-4431-b4df-0d689a6d4241",
   "metadata": {},
   "outputs": [],
   "source": [
    "def generate_encodings(n, current_encoding=None, encodings=None):\n",
    "    if current_encoding is None:\n",
    "        current_encoding = [1] \n",
    "    \n",
    "    if encodings is None:\n",
    "        encodings = [] \n",
    "    \n",
    "    if len(current_encoding) == n: \n",
    "        encodings.append(current_encoding)\n",
    "        return encodings\n",
    "    \n",
    "    last_bit = current_encoding[-1]\n",
    "    \n",
    "    # If the last bit is 1, the next bit must be 0\n",
    "    if last_bit == 1:\n",
    "        generate_encodings(n, current_encoding + [0], encodings)\n",
    "    # If the last bit is 0, the next bit can be either 0 or 1\n",
    "    else:\n",
    "        generate_encodings(n, current_encoding + [0], encodings)\n",
    "        generate_encodings(n, current_encoding + [1], encodings)\n",
    "    \n",
    "    return encodings\n",
    "\n"
   ]
  },
  {
   "cell_type": "code",
   "execution_count": 48,
   "id": "717b47a1-d36f-437d-851a-c282da118e64",
   "metadata": {},
   "outputs": [
    {
     "name": "stdout",
     "output_type": "stream",
     "text": [
      "[[1, 0, 0, 0, 0, 0], [1, 0, 0, 0, 0, 1], [1, 0, 0, 0, 1, 0], [1, 0, 0, 1, 0, 0], [1, 0, 0, 1, 0, 1], [1, 0, 1, 0, 0, 0], [1, 0, 1, 0, 0, 1], [1, 0, 1, 0, 1, 0]]\n"
     ]
    }
   ],
   "source": [
    "n = 6\n",
    "valid_encodings = generate_encodings(n)\n",
    "print(valid_encodings)"
   ]
  },
  {
   "cell_type": "code",
   "execution_count": 49,
   "id": "2eeef116-080a-43aa-81f6-f60a502155fb",
   "metadata": {},
   "outputs": [
    {
     "name": "stdout",
     "output_type": "stream",
     "text": [
      "Encoding: [1, 0, 0, 0]\n",
      "x^5\n",
      "Encoding: [0, 0, 0, 1]\n",
      "x\n",
      "Encoding: [1, 0, 0, 1]\n",
      "x^6\n",
      "Encoding: [1, 0, 0, 1]\n",
      "x^6\n",
      "Encoding: [1, 0, 1, 0]\n",
      "x^5\n",
      "Encoding: [0, 1, 0, 1]\n",
      "x^4\n"
     ]
    }
   ],
   "source": [
    "# We will then calculate the augmented polynomial given by the equation:\n",
    "# P_{n,e}(x)= \\prod_{i=1}^{n} [(1-e_i)*( P_{n-i}(x) )+(e_i)*x*[P_{n-(i+1)}(x)]^2]\n",
    "# We will then check for E and E' and hopefully prove that our hypothesis that P_{n,E'}(x) - P_{n,E}(x) >= 0\n",
    "\n",
    "n = 4\n",
    "valid_encodings = generate_encodings(n)\n",
    "\n",
    "for e in valid_encodings:\n",
    "    print(f\"Encoding: {e}\")\n",
    "    print(P(n, e))\n",
    "    print(f\"Encoding: {e[::-1]}\")\n",
    "    print(P(n, e[::-1]))"
   ]
  }
 ],
 "metadata": {
  "kernelspec": {
   "display_name": "SageMath 10.3",
   "language": "sage",
   "name": "sagemath-10.3"
  },
  "language_info": {
   "codemirror_mode": {
    "name": "ipython",
    "version": 3
   },
   "file_extension": ".py",
   "mimetype": "text/x-python",
   "name": "python",
   "nbconvert_exporter": "python",
   "pygments_lexer": "ipython3",
   "version": "3.11.1"
  }
 },
 "nbformat": 4,
 "nbformat_minor": 5
}
